{
 "cells": [
  {
   "cell_type": "code",
   "execution_count": 1,
   "metadata": {},
   "outputs": [],
   "source": [
    "from pathlib import Path\n",
    "from itertools import product\n",
    "import numpy as np\n",
    "import pandas as pd\n"
   ]
  },
  {
   "cell_type": "code",
   "execution_count": 2,
   "metadata": {
    "collapsed": true
   },
   "outputs": [],
   "source": [
    "# Directories\n",
    "bids_dir = Path('/projects/osl/xiy/data/210817SAGE2Data/bids_data')\n",
    "deriv_dir = Path('/projects/osl/xiy/data/210817SAGE2Data/derivatives')\n",
    "code_dir = Path('/projects/osl/xiy/scripts')\n",
    "log_dir = Path('/projects/osl/xiy/log')\n",
    "submit_dir = Path('/projects/osl/xiy/submit')\n",
    "work_dir = submit_dir / 'works'"
   ]
  },
  {
   "cell_type": "markdown",
   "metadata": {},
   "source": [
    "excluded = ['001', '023', '050', '093']\n",
    "subj_info = pd.read_csv(bids_dir.joinpath('participants.tsv'), delimiter='\\t')\n",
    "subj_info['included'] = 'yes'\n",
    "subj_info.loc[subj_info.participant_id.isin(excluded), 'included'] = 'no'\n",
    "subj_info.to_csv(bids_dir.joinpath('participants.tsv'), sep='\\t', index=False)"
   ]
  },
  {
   "cell_type": "code",
   "execution_count": 7,
   "metadata": {
    "collapsed": true
   },
   "outputs": [],
   "source": [
    "\n"
   ]
  },
  {
   "cell_type": "code",
   "execution_count": 10,
   "metadata": {},
   "outputs": [],
   "source": [
    "# the following IDs excluded because their fMRIPrep have been run separately\n",
    "# excluded = ['sub-001']\n",
    "subj_info = pd.read_csv(bids_dir.joinpath('participants.tsv'), delimiter='\\t')\n",
    "subj_info['included'] = 'yes'\n",
    "# subj_info.loc[subj_info.participant_id.isin(excluded), 'included'] = 'no'\n",
    "subj_info.to_csv(bids_dir.joinpath('participants.tsv'), sep='\\t', index=False)"
   ]
  },
  {
   "cell_type": "code",
   "execution_count": 11,
   "metadata": {},
   "outputs": [],
   "source": [
    "# Get participants list\n",
    "# subj_info = pd.read_csv(bids_dir.joinpath('participants.tsv'), delimiter='\\t')\n",
    "subj_list = [\n",
    "    subj_id.replace('sub-', '')\n",
    "    for subj_id in subj_info.loc[subj_info.included == 'yes', 'participant_id'].tolist()\n",
    "]"
   ]
  },
  {
   "cell_type": "code",
   "execution_count": 6,
   "metadata": {
    "collapsed": true
   },
   "outputs": [],
   "source": [
    "# to create a txt file with each line detailing a job request\n",
    "out_file = submit_dir / 'preproc_fmriprep_slicetiming.txt'\n",
    "op_string = ''\n",
    "for subj_id in subj_list:\n",
    "    op_string += (\n",
    "        f'singularity run -e --bind /projects/osl/xiy:/projects/osl/xiy /projects/osl/xiy/images/fmriprep-20.2.3.simg '\n",
    "        f'{bids_dir} {deriv_dir} participant '\n",
    "        f'--participant_label {subj_id} '\n",
    "        '--output-space MNI152NLin2009cAsym MNI152NLin6Asym '\n",
    "        f'-w {work_dir} --fs-license-file /projects/osl/xiy/license.txt --resource-monitor '\n",
    "        '--notrack --stop-on-first-crash --error-on-aroma-warnings --ignore slicetiming --use-aroma\\n')\n",
    "    out_file.write_text(op_string)"
   ]
  },
  {
   "cell_type": "code",
   "execution_count": 6,
   "metadata": {},
   "outputs": [
    {
     "name": "stdout",
     "output_type": "stream",
     "text": [
      "    sub-001/ses-001/func/sub-001_ses-001_task-reward_space-MNI152NLin2009cAsym_desc-preproc_bold.nii.gz\n",
      "0    sub-001/ses-001/func/sub-001_ses-001_task-rewa...                                                 \n",
      "1    sub-001/ses-001/func/sub-001_ses-001_task-rewa...                                                 \n",
      "2    sub-001/ses-002/func/sub-001_ses-002_task-rewa...                                                 \n",
      "3    sub-001/ses-002/func/sub-001_ses-002_task-rewa...                                                 \n",
      "4    sub-001/ses-002/func/sub-001_ses-002_task-rewa...                                                 \n",
      "..                                                 ...                                                 \n",
      "123  sub-810/ses-001/func/sub-810_ses-001_task-rewa...                                                 \n",
      "124  sub-810/ses-001/func/sub-810_ses-001_task-rewa...                                                 \n",
      "125  sub-810/ses-002/func/sub-810_ses-002_task-rewa...                                                 \n",
      "126  sub-810/ses-002/func/sub-810_ses-002_task-rewa...                                                 \n",
      "127  sub-810/ses-002/func/sub-810_ses-002_task-rewa...                                                 \n",
      "\n",
      "[128 rows x 1 columns]\n"
     ]
    }
   ],
   "source": [
    "# to create a smooth and scale job request\n",
    "nii_info = pd.read_csv(deriv_dir.joinpath('fmriprep/smoothlist'))\n",
    "op_string = ''\n",
    "for subj_id in subj_list:\n",
    "    op_string += (\n",
    "        f'module load afni '\n",
    "        f'{bids_dir} {deriv_dir} participant '\n",
    "        f'--participant_label {subj_id} '\n",
    "        '--output-space MNI152NLin2009cAsym MNI152NLin6Asym ')\n",
    "    out_file.write_text(op_string)"
   ]
  },
  {
   "cell_type": "code",
   "execution_count": 23,
   "metadata": {},
   "outputs": [
    {
     "name": "stdout",
     "output_type": "stream",
     "text": [
      "{('01', 'reward'), ('02', 'reward')}\n"
     ]
    }
   ],
   "source": [
    "session_list = ['01', '02']\n",
    "task_list = ['reward', 'reward']\n",
    "result = zip(session_list, task_list)\n",
    "print(set(result))"
   ]
  },
  {
   "cell_type": "code",
   "execution_count": 29,
   "metadata": {},
   "outputs": [],
   "source": [
    "#Flavor1: T1w space; Smooth 4mm; only reward task is smoothed & scaled. Resting task has a TR of .78 instead of 2\n",
    "workflow = code_dir / 'preprocess' / 'workflow_PostFMRIPREP.py'\n",
    "data_dir = Path('/projects/osl/xiy/data/210817SAGE2Data')\n",
    "\n",
    "session_list = ['001', '002']\n",
    "task_list = ['reward', 'reward']\n",
    "# run_list = ['01 02 03 04 05 06', '01 02 03 04 05 06']\n",
    "bold_space = 'MNI152NLin2009cAsym'\n",
    "\n",
    "#######need to find a way to create a list such that 02 session won't be created for participants with only one visit\n",
    "####best approach: original tsv change into subj_id, subj_id(not_unique), session, don't use the generic zip function\n",
    "output_dir = deriv_dir.joinpath('preproc_variant_smooth4')\n",
    "out_file = submit_dir.joinpath(f'preproc_post-fmriprep_space-{bold_space}_variant_smooth4.txt')\n",
    "\n",
    "op_string = ''\n",
    "for bold_id, subj_id in product(zip(session_list, task_list), subj_list):\n",
    "\n",
    "    session_id = bold_id[0]\n",
    "    task_id = bold_id[1]\n",
    "    work_dir = bids_dir.joinpath('works', f'ses-{session_id}', (f'preproc_post-fmriprep_ses-{session_id}_task-{task_id}_'\n",
    "                                           f'space-{bold_space}_variant-smooth4'))\n",
    "\n",
    "    op_string += (\n",
    "        f'python3 {workflow} '\n",
    "        f'{data_dir} {output_dir} participant '\n",
    "        f'--participant_label {subj_id} --session-id {session_id} --task-id {task_id} '\n",
    "        f'--bold-space {bold_space} --brainmask '\n",
    "        f'fmriprep '\n",
    "        '--repetition-time 2.0 --smooth-fwhm 4 '\n",
    "        f'--n_procs 6 --work-dir {work_dir}\\n')\n",
    "    out_file.write_text(op_string)\n"
   ]
  },
  {
   "cell_type": "code",
   "execution_count": 15,
   "metadata": {},
   "outputs": [],
   "source": [
    "#Flavor2: T1w space; Smooth 6mm\n",
    "workflow = code_dir / 'preprocess' / 'workflow_PostFMRIPREP.py'\n",
    "data_dir = Path('/projects/osl/xiy/data/210817SAGE2Data')\n",
    "\n",
    "task_list = ['reward']\n",
    "run_list = ['01 02 03 04 05 06', '01 02 03 04 05 06']\n",
    "bold_space = 'MNI152NLin2009cAsym'\n",
    "\n",
    "output_dir = deriv_dir.joinpath('preproc_variant-smooth6')\n",
    "out_file = submit_dir.joinpath(f'preproc_post-fmriprep_space-{bold_space}_variant-smooth6.txt')\n",
    "\n",
    "op_string = ''\n",
    "for bold_id, subj_id in product(zip(task_list, run_list), subj_list):\n",
    "\n",
    "    task_id = bold_id[0]\n",
    "    run_id = bold_id[1]\n",
    "    work_dir = submit_dir.joinpath('works', (f'preproc_post-fmriprep_task-{task_id}_'\n",
    "                                           f'space-{bold_space}_variant-smooth6'))\n",
    "\n",
    "    op_string += (\n",
    "        f'python3 {workflow} '\n",
    "        f'{data_dir} {output_dir} participant '\n",
    "        f'--participant_label {subj_id} --task-id {task_id} --run-id {run_id} '\n",
    "        f'--bold-space {bold_space} --brainmask '\n",
    "        f'fmriprep '\n",
    "        '--repetition-time 2.0 --smooth-fwhm 6'\n",
    "        f'--n_procs 6 --work-dir {work_dir}\\n')\n",
    "    out_file.write_text(op_string)\n"
   ]
  },
  {
   "cell_type": "code",
   "execution_count": 8,
   "metadata": {},
   "outputs": [],
   "source": [
    "# subregion\n",
    "output_dir = deriv_dir / 'hippocampus_subregions'\n",
    "out_file = submit_dir / 'preproc_hippocampus-segmentation.txt'\n",
    "op_string = ''\n",
    "for subj_id in subj_list:\n",
    "    \n",
    "    # Excludes sub-28 due to lack of T2w image\n",
    "#     if subj_id == '28':\n",
    "#         continue\n",
    "    \n",
    "    op_string += (\n",
    "        f'singularity exec -e --bind /projects/kuhl_lab/yzhao17:/projects/kuhl_lab/yzhao17 /projects/kuhl_lab/yzhao17/Image/Valhalla.simg '\n",
    "        '/opt/ashs/bin/ashs_main.sh '\n",
    "        f'-I sub-{subj_id} '\n",
    "        '-a /opt/resources/ashs_atlas/ashs_atlas_upennpmc_20170810 '\n",
    "        f'-g {deriv_dir}/fmriprep/sub-{subj_id}/anat/sub-{subj_id}_desc-preproc_T1w.nii.gz '\n",
    "        f'-f {bids_dir}/sub-{subj_id}/anat/sub-{subj_id}_T2w.nii.gz '\n",
    "        f'-w {output_dir}/sub-{subj_id} -T\\n')\n",
    "    out_file.write_text(op_string)"
   ]
  },
  {
   "cell_type": "code",
   "execution_count": 8,
   "metadata": {},
   "outputs": [],
   "source": [
    "# create roi\n",
    "out_file = submit_dir / 'create_de_roi.txt'\n",
    "op_string = ''\n",
    "for subj_id in subj_list:\n",
    "    op_string += (\n",
    "        'singularity run -e --bind /projects/kuhl_lab/yzhao17:/projects/kuhl_lab/yzhao17 /projects/kuhl_lab/yzhao17/Image/Valhalla.simg '\n",
    "        f'python3 /projects/kuhl_lab/yzhao17/DIIN/scripts/roi/create_roi_destrieux.py '\n",
    "        f'--participant_label {subj_id}\\n')\n",
    "    out_file.write_text(op_string)"
   ]
  },
  {
   "cell_type": "code",
   "execution_count": null,
   "metadata": {},
   "outputs": [],
   "source": []
  },
  {
   "cell_type": "code",
   "execution_count": null,
   "metadata": {},
   "outputs": [],
   "source": []
  }
 ],
 "metadata": {
  "kernelspec": {
   "display_name": "Python 3",
   "language": "python",
   "name": "python3"
  },
  "language_info": {
   "codemirror_mode": {
    "name": "ipython",
    "version": 3
   },
   "file_extension": ".py",
   "mimetype": "text/x-python",
   "name": "python",
   "nbconvert_exporter": "python",
   "pygments_lexer": "ipython3",
   "version": "3.6.8"
  }
 },
 "nbformat": 4,
 "nbformat_minor": 2
}
